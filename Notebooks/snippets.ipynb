{
 "cells": [
  {
   "cell_type": "markdown",
   "metadata": {},
   "source": [
    "<h3>Name</h3>\n",
    "\n",
    "<b>Description:<b> ...  </br>\n",
    "\n",
    "1. ...  </br>\n",
    "2. ...  </br>\n",
    "3. ...  </br>\n",
    "4. ...  </br>\n",
    "\n",
    "\n",
    "<b>Last edited:</b> 18/11/2021 by Adrian Kjærran\n",
    "\n",
    "---"
   ]
  },
  {
   "cell_type": "code",
   "execution_count": null,
   "metadata": {},
   "outputs": [],
   "source": []
  },
  {
   "cell_type": "code",
   "execution_count": 16,
   "metadata": {},
   "outputs": [],
   "source": [
    "import tdt17\n",
    "from tdt17.nbimports import Paths, np, os, pd, plt, sns, sp\n",
    "%reload_ext autoreload\n",
    "%autoreload 2"
   ]
  }
 ],
 "metadata": {
  "interpreter": {
   "hash": "57ffbed56229f5886f42d0ae1fbb908fdad81485aa6bef9c0c6277ef62c968ce"
  },
  "kernelspec": {
   "display_name": "Python 3.9.7 64-bit ('plaace': conda)",
   "language": "python",
   "name": "python3"
  },
  "language_info": {
   "codemirror_mode": {
    "name": "ipython",
    "version": 3
   },
   "file_extension": ".py",
   "mimetype": "text/x-python",
   "name": "python",
   "nbconvert_exporter": "python",
   "pygments_lexer": "ipython3",
   "version": "3.9.7"
  },
  "orig_nbformat": 4
 },
 "nbformat": 4,
 "nbformat_minor": 2
}
