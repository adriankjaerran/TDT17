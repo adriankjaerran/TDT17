{
 "cells": [
  {
   "cell_type": "markdown",
   "metadata": {},
   "source": [
    "<h3>Convert images to video</h3>\n",
    "\n",
    "<b>Description:<b> Take a folder of images and convert them to an .avi or .mp4 video </br>\n",
    "\n",
    "<b>Last edited:</b> 18/11/2021 by Adrian Kjærran\n",
    "\n",
    "---"
   ]
  },
  {
   "cell_type": "code",
   "execution_count": 6,
   "metadata": {},
   "outputs": [],
   "source": [
    "import tdt17\n",
    "from tdt17.nbimports import Paths, np, os, pd, plt, sns, sp\n",
    "import cv2\n",
    "import glob\n",
    "%reload_ext autoreload\n",
    "%autoreload 2"
   ]
  },
  {
   "cell_type": "code",
   "execution_count": 8,
   "metadata": {},
   "outputs": [
    {
     "name": "stdout",
     "output_type": "stream",
     "text": [
      "Converting 502 images to a video\n"
     ]
    },
    {
     "name": "stderr",
     "output_type": "stream",
     "text": [
      "OpenCV: FFMPEG: tag 0x58564944/'DIVX' is not supported with codec id 12 and format 'mp4 / MP4 (MPEG-4 Part 14)'\n",
      "OpenCV: FFMPEG: fallback to use tag 0x7634706d/'mp4v'\n"
     ]
    },
    {
     "name": "stdout",
     "output_type": "stream",
     "text": [
      "Stored video: /Users/Adrian/code/TDT17/videos/range_23_11.mp4\n"
     ]
    }
   ],
   "source": [
    "IMAGES_FOLDER = Paths.VIDEOS /'range_23_11/*.jpg' #S pecify a folder that contains images and optional suffix (e.g.'yolov4_ambient/*.jpg') \n",
    "SAVE_TO = Paths.VIDEOS /'range_23_11.mp4'\n",
    "FRAME_RATE = 15\n",
    "\n",
    "#########################################################\n",
    "img_array = []\n",
    "for filename in sorted(glob.glob(str(IMAGES_FOLDER))):\n",
    "    img = cv2.imread(filename)\n",
    "    height, width, layers = img.shape\n",
    "    size = (width,height)\n",
    "    img_array.append(img)\n",
    "    \n",
    "print(f'Converting {len(img_array)} images to a video')\n",
    "out = cv2.VideoWriter(str(SAVE_TO),cv2.VideoWriter_fourcc(*'DIVX'), FRAME_RATE, size)\n",
    " \n",
    "for i in range(len(img_array)):\n",
    "    out.write(img_array[i])\n",
    "out.release()\n",
    "print(f'Stored video: {SAVE_TO}')\n"
   ]
  },
  {
   "cell_type": "code",
   "execution_count": null,
   "metadata": {},
   "outputs": [],
   "source": []
  }
 ],
 "metadata": {
  "interpreter": {
   "hash": "9872a9ded699599cd423587e9946a407b03d54c689c40cb478a5df21414c581b"
  },
  "kernelspec": {
   "display_name": "Python 3.9.7 64-bit ('tdt17': conda)",
   "language": "python",
   "name": "python3"
  },
  "language_info": {
   "codemirror_mode": {
    "name": "ipython",
    "version": 3
   },
   "file_extension": ".py",
   "mimetype": "text/x-python",
   "name": "python",
   "nbconvert_exporter": "python",
   "pygments_lexer": "ipython3",
   "version": "3.9.7"
  },
  "orig_nbformat": 4
 },
 "nbformat": 4,
 "nbformat_minor": 2
}
