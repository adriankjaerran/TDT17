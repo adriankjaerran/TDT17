{
 "cells": [
  {
   "cell_type": "code",
   "execution_count": 1,
   "metadata": {},
   "outputs": [],
   "source": [
    "import tdt17\n",
    "from tdt17.nbimports import Paths, np, os, pd, plt, sns, sp\n",
    "%reload_ext autoreload\n",
    "%autoreload 2"
   ]
  },
  {
   "cell_type": "code",
   "execution_count": 7,
   "metadata": {},
   "outputs": [
    {
     "name": "stdout",
     "output_type": "stream",
     "text": [
      "Type: <class 'dict'>\n"
     ]
    }
   ],
   "source": [
    "# importing the module\n",
    "import json\n",
    "  \n",
    "# Opening JSON file\n",
    "with open('/Users/Adrian/code/TDT17/data/COCO/val/labels.json') as json_file:\n",
    "    data = json.load(json_file)\n",
    "  \n",
    "    # Print the type of data variable\n",
    "    print(\"Type:\", type(data))\n",
    "  \n",
    "    # Print the data of dictionary\n"
   ]
  },
  {
   "cell_type": "code",
   "execution_count": 12,
   "metadata": {},
   "outputs": [
    {
     "data": {
      "text/plain": [
       "['000000017627.jpg',\n",
       " '000000219578.jpg',\n",
       " '000000025560.jpg',\n",
       " '000000057597.jpg',\n",
       " '000000029393.jpg',\n",
       " '000000000785.jpg',\n",
       " '000000011197.jpg',\n",
       " '000000000724.jpg',\n",
       " '000000375278.jpg',\n",
       " '000000038048.jpg',\n",
       " '000000054593.jpg',\n",
       " '000000047828.jpg',\n",
       " '000000000885.jpg',\n",
       " '000000042070.jpg',\n",
       " '000000025393.jpg',\n",
       " '000000001000.jpg',\n",
       " '000000010363.jpg',\n",
       " '000000000872.jpg',\n",
       " '000000057672.jpg',\n",
       " '000000554291.jpg',\n",
       " '000000067616.jpg',\n",
       " '000000401991.jpg',\n",
       " '000000000776.jpg',\n",
       " '000000046872.jpg',\n",
       " '000000045596.jpg',\n",
       " '000000017029.jpg',\n",
       " '000000030828.jpg',\n",
       " '000000055150.jpg',\n",
       " '000000000802.jpg',\n",
       " '000000067213.jpg',\n",
       " '000000169076.jpg',\n",
       " '000000015497.jpg',\n",
       " '000000017207.jpg',\n",
       " '000000022892.jpg',\n",
       " '000000004795.jpg',\n",
       " '000000001675.jpg',\n",
       " '000000006040.jpg',\n",
       " '000000065350.jpg',\n",
       " '000000021839.jpg',\n",
       " '000000032941.jpg',\n",
       " '000000032334.jpg',\n",
       " '000000543581.jpg',\n",
       " '000000064523.jpg',\n",
       " '000000058539.jpg',\n",
       " '000000044590.jpg',\n",
       " '000000179392.jpg',\n",
       " '000000007088.jpg',\n",
       " '000000007386.jpg',\n",
       " '000000000285.jpg',\n",
       " '000000241326.jpg',\n",
       " '000000039484.jpg',\n",
       " '000000014831.jpg',\n",
       " '000000189806.jpg',\n",
       " '000000318238.jpg',\n",
       " '000000027768.jpg',\n",
       " '000000000139.jpg',\n",
       " '000000033221.jpg',\n",
       " '000000033854.jpg',\n",
       " '000000026204.jpg',\n",
       " '000000018833.jpg',\n",
       " '000000071226.jpg',\n",
       " '000000009891.jpg',\n",
       " '000000022192.jpg',\n",
       " '000000018837.jpg',\n",
       " '000000014007.jpg',\n",
       " '000000055167.jpg',\n",
       " '000000005037.jpg',\n",
       " '000000031118.jpg',\n",
       " '000000054967.jpg',\n",
       " '000000023272.jpg',\n",
       " '000000040083.jpg',\n",
       " '000000000632.jpg',\n",
       " '000000033759.jpg']"
      ]
     },
     "execution_count": 12,
     "metadata": {},
     "output_type": "execute_result"
    }
   ],
   "source": [
    "[img[\"file_name\"] for img in data[\"images\"]]"
   ]
  }
 ],
 "metadata": {
  "interpreter": {
   "hash": "9872a9ded699599cd423587e9946a407b03d54c689c40cb478a5df21414c581b"
  },
  "kernelspec": {
   "display_name": "Python 3.9.7 64-bit ('tdt17': conda)",
   "language": "python",
   "name": "python3"
  },
  "language_info": {
   "codemirror_mode": {
    "name": "ipython",
    "version": 3
   },
   "file_extension": ".py",
   "mimetype": "text/x-python",
   "name": "python",
   "nbconvert_exporter": "python",
   "pygments_lexer": "ipython3",
   "version": "3.9.7"
  },
  "orig_nbformat": 4
 },
 "nbformat": 4,
 "nbformat_minor": 2
}
