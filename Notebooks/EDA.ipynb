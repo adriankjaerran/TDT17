{
 "cells": [
  {
   "cell_type": "code",
   "execution_count": 2,
   "metadata": {},
   "outputs": [],
   "source": [
    "import tdt17\n",
    "from tdt17.nbimports import Paths, np, os, pd, plt, sns, sp\n",
    "%reload_ext autoreload\n",
    "%autoreload 2\n",
    "\n",
    "import fiftyone as fo\n",
    "import fiftyone.zoo as foz\n"
   ]
  },
  {
   "cell_type": "markdown",
   "metadata": {},
   "source": [
    "#### Test that you can launch the app fiftyone "
   ]
  },
  {
   "cell_type": "code",
   "execution_count": 4,
   "metadata": {},
   "outputs": [
    {
     "name": "stdout",
     "output_type": "stream",
     "text": [
      "Downloading split 'validation' to '/Users/Adrian/fiftyone/coco-2017/validation' if necessary\n",
      "Found annotations at '/Users/Adrian/fiftyone/coco-2017/raw/instances_val2017.json'\n",
      "51 images found; downloading the remaining 2897\n",
      "  68% |██████████/-----| 1959/2897 [3.3m elapsed, 1.7m remaining, 8.7 images/s]   \n"
     ]
    },
    {
     "ename": "ConnectionError",
     "evalue": "None: Max retries exceeded with url: /val2017/000000398028.jpg (Caused by None)",
     "output_type": "error",
     "traceback": [
      "\u001b[0;31m---------------------------------------------------------------------------\u001b[0m",
      "\u001b[0;31mRemoteTraceback\u001b[0m                           Traceback (most recent call last)",
      "\u001b[0;31mRemoteTraceback\u001b[0m: \n\"\"\"\nTraceback (most recent call last):\n  File \"/Users/Adrian/miniconda3/envs/tdt17/lib/python3.9/site-packages/urllib3/connection.py\", line 174, in _new_conn\n    conn = connection.create_connection(\n  File \"/Users/Adrian/miniconda3/envs/tdt17/lib/python3.9/site-packages/urllib3/util/connection.py\", line 96, in create_connection\n    raise err\n  File \"/Users/Adrian/miniconda3/envs/tdt17/lib/python3.9/site-packages/urllib3/util/connection.py\", line 86, in create_connection\n    sock.connect(sa)\nConnectionRefusedError: [Errno 61] Connection refused\n\nDuring handling of the above exception, another exception occurred:\n\nTraceback (most recent call last):\n  File \"/Users/Adrian/miniconda3/envs/tdt17/lib/python3.9/site-packages/urllib3/connectionpool.py\", line 699, in urlopen\n    httplib_response = self._make_request(\n  File \"/Users/Adrian/miniconda3/envs/tdt17/lib/python3.9/site-packages/urllib3/connectionpool.py\", line 394, in _make_request\n    conn.request(method, url, **httplib_request_kw)\n  File \"/Users/Adrian/miniconda3/envs/tdt17/lib/python3.9/site-packages/urllib3/connection.py\", line 239, in request\n    super(HTTPConnection, self).request(method, url, body=body, headers=headers)\n  File \"/Users/Adrian/miniconda3/envs/tdt17/lib/python3.9/http/client.py\", line 1279, in request\n    self._send_request(method, url, body, headers, encode_chunked)\n  File \"/Users/Adrian/miniconda3/envs/tdt17/lib/python3.9/http/client.py\", line 1325, in _send_request\n    self.endheaders(body, encode_chunked=encode_chunked)\n  File \"/Users/Adrian/miniconda3/envs/tdt17/lib/python3.9/http/client.py\", line 1274, in endheaders\n    self._send_output(message_body, encode_chunked=encode_chunked)\n  File \"/Users/Adrian/miniconda3/envs/tdt17/lib/python3.9/http/client.py\", line 1034, in _send_output\n    self.send(msg)\n  File \"/Users/Adrian/miniconda3/envs/tdt17/lib/python3.9/http/client.py\", line 974, in send\n    self.connect()\n  File \"/Users/Adrian/miniconda3/envs/tdt17/lib/python3.9/site-packages/urllib3/connection.py\", line 205, in connect\n    conn = self._new_conn()\n  File \"/Users/Adrian/miniconda3/envs/tdt17/lib/python3.9/site-packages/urllib3/connection.py\", line 186, in _new_conn\n    raise NewConnectionError(\nurllib3.exceptions.NewConnectionError: <urllib3.connection.HTTPConnection object at 0x1442e08b0>: Failed to establish a new connection: [Errno 61] Connection refused\n\nDuring handling of the above exception, another exception occurred:\n\nTraceback (most recent call last):\n  File \"/Users/Adrian/miniconda3/envs/tdt17/lib/python3.9/site-packages/requests/adapters.py\", line 439, in send\n    resp = conn.urlopen(\n  File \"/Users/Adrian/miniconda3/envs/tdt17/lib/python3.9/site-packages/urllib3/connectionpool.py\", line 755, in urlopen\n    retries = retries.increment(\n  File \"/Users/Adrian/miniconda3/envs/tdt17/lib/python3.9/site-packages/urllib3/util/retry.py\", line 574, in increment\n    raise MaxRetryError(_pool, url, error or ResponseError(cause))\nurllib3.exceptions.MaxRetryError: HTTPConnectionPool(host='images.cocodataset.org', port=80): Max retries exceeded with url: /val2017/000000398028.jpg (Caused by NewConnectionError('<urllib3.connection.HTTPConnection object at 0x1442e08b0>: Failed to establish a new connection: [Errno 61] Connection refused'))\n\nDuring handling of the above exception, another exception occurred:\n\nTraceback (most recent call last):\n  File \"/Users/Adrian/miniconda3/envs/tdt17/lib/python3.9/multiprocessing/pool.py\", line 125, in worker\n    result = (True, func(*args, **kwds))\n  File \"/Users/Adrian/miniconda3/envs/tdt17/lib/python3.9/site-packages/fiftyone/utils/coco.py\", line 1786, in _do_download\n    etaw.download_file(url, path=path, quiet=True)\n  File \"/Users/Adrian/miniconda3/envs/tdt17/lib/python3.9/site-packages/eta/core/web.py\", line 67, in download_file\n    return sess.write(path, url) if path else sess.get(url)\n  File \"/Users/Adrian/miniconda3/envs/tdt17/lib/python3.9/site-packages/eta/core/web.py\", line 147, in write\n    r = self._get_streaming_response(url, params=params)\n  File \"/Users/Adrian/miniconda3/envs/tdt17/lib/python3.9/site-packages/eta/core/web.py\", line 153, in _get_streaming_response\n    r = self.sess.get(\n  File \"/Users/Adrian/miniconda3/envs/tdt17/lib/python3.9/site-packages/requests/sessions.py\", line 555, in get\n    return self.request('GET', url, **kwargs)\n  File \"/Users/Adrian/miniconda3/envs/tdt17/lib/python3.9/site-packages/requests/sessions.py\", line 542, in request\n    resp = self.send(prep, **send_kwargs)\n  File \"/Users/Adrian/miniconda3/envs/tdt17/lib/python3.9/site-packages/requests/sessions.py\", line 655, in send\n    r = adapter.send(request, **kwargs)\n  File \"/Users/Adrian/miniconda3/envs/tdt17/lib/python3.9/site-packages/requests/adapters.py\", line 516, in send\n    raise ConnectionError(e, request=request)\nrequests.exceptions.ConnectionError: HTTPConnectionPool(host='images.cocodataset.org', port=80): Max retries exceeded with url: /val2017/000000398028.jpg (Caused by NewConnectionError('<urllib3.connection.HTTPConnection object at 0x1442e08b0>: Failed to establish a new connection: [Errno 61] Connection refused'))\n\"\"\"",
      "\nThe above exception was the direct cause of the following exception:\n",
      "\u001b[0;31mConnectionError\u001b[0m                           Traceback (most recent call last)",
      "\u001b[0;32m/var/folders/q0/hjtnx17s3vn1ljr3y6kc_lzc0000gn/T/ipykernel_49215/2031494617.py\u001b[0m in \u001b[0;36m<module>\u001b[0;34m\u001b[0m\n\u001b[0;32m----> 1\u001b[0;31m dataset = fo.zoo.load_zoo_dataset(\n\u001b[0m\u001b[1;32m      2\u001b[0m     \u001b[0;34m\"coco-2017\"\u001b[0m\u001b[0;34m,\u001b[0m\u001b[0;34m\u001b[0m\u001b[0;34m\u001b[0m\u001b[0m\n\u001b[1;32m      3\u001b[0m     \u001b[0msplit\u001b[0m\u001b[0;34m=\u001b[0m\u001b[0;34m\"validation\"\u001b[0m\u001b[0;34m,\u001b[0m\u001b[0;34m\u001b[0m\u001b[0;34m\u001b[0m\u001b[0m\n\u001b[1;32m      4\u001b[0m     \u001b[0mlabel_types\u001b[0m\u001b[0;34m=\u001b[0m\u001b[0;34m[\u001b[0m\u001b[0;34m\"detections\"\u001b[0m\u001b[0;34m,\u001b[0m \u001b[0;34m\"segmentations\"\u001b[0m\u001b[0;34m]\u001b[0m\u001b[0;34m,\u001b[0m\u001b[0;34m\u001b[0m\u001b[0;34m\u001b[0m\u001b[0m\n\u001b[1;32m      5\u001b[0m     \u001b[0mclasses\u001b[0m\u001b[0;34m=\u001b[0m\u001b[0;34m[\u001b[0m\u001b[0;34m\"person\"\u001b[0m\u001b[0;34m,\u001b[0m \u001b[0;34m\"car\"\u001b[0m\u001b[0;34m,\u001b[0m\u001b[0;34m\"truck\"\u001b[0m\u001b[0;34m,\u001b[0m\u001b[0;34m\"bicycle\"\u001b[0m\u001b[0;34m,\u001b[0m\u001b[0;34m\"motorcycle\"\u001b[0m\u001b[0;34m]\u001b[0m\u001b[0;34m,\u001b[0m\u001b[0;34m\u001b[0m\u001b[0;34m\u001b[0m\u001b[0m\n",
      "\u001b[0;32m~/miniconda3/envs/tdt17/lib/python3.9/site-packages/fiftyone/zoo/datasets/__init__.py\u001b[0m in \u001b[0;36mload_zoo_dataset\u001b[0;34m(name, split, splits, label_field, dataset_name, dataset_dir, download_if_necessary, drop_existing_dataset, overwrite, cleanup, **kwargs)\u001b[0m\n\u001b[1;32m    195\u001b[0m         )\n\u001b[1;32m    196\u001b[0m \u001b[0;34m\u001b[0m\u001b[0m\n\u001b[0;32m--> 197\u001b[0;31m         info, dataset_dir = download_zoo_dataset(\n\u001b[0m\u001b[1;32m    198\u001b[0m             \u001b[0mname\u001b[0m\u001b[0;34m,\u001b[0m\u001b[0;34m\u001b[0m\u001b[0;34m\u001b[0m\u001b[0m\n\u001b[1;32m    199\u001b[0m             \u001b[0msplits\u001b[0m\u001b[0;34m=\u001b[0m\u001b[0msplits\u001b[0m\u001b[0;34m,\u001b[0m\u001b[0;34m\u001b[0m\u001b[0;34m\u001b[0m\u001b[0m\n",
      "\u001b[0;32m~/miniconda3/envs/tdt17/lib/python3.9/site-packages/fiftyone/zoo/datasets/__init__.py\u001b[0m in \u001b[0;36mdownload_zoo_dataset\u001b[0;34m(name, split, splits, dataset_dir, overwrite, cleanup, **kwargs)\u001b[0m\n\u001b[1;32m    114\u001b[0m         \u001b[0mname\u001b[0m\u001b[0;34m,\u001b[0m \u001b[0mdataset_dir\u001b[0m\u001b[0;34m,\u001b[0m \u001b[0;34m**\u001b[0m\u001b[0mkwargs\u001b[0m\u001b[0;34m\u001b[0m\u001b[0;34m\u001b[0m\u001b[0m\n\u001b[1;32m    115\u001b[0m     )\n\u001b[0;32m--> 116\u001b[0;31m     return zoo_dataset.download_and_prepare(\n\u001b[0m\u001b[1;32m    117\u001b[0m         \u001b[0mdataset_dir\u001b[0m\u001b[0;34m=\u001b[0m\u001b[0mdataset_dir\u001b[0m\u001b[0;34m,\u001b[0m\u001b[0;34m\u001b[0m\u001b[0;34m\u001b[0m\u001b[0m\n\u001b[1;32m    118\u001b[0m         \u001b[0msplit\u001b[0m\u001b[0;34m=\u001b[0m\u001b[0msplit\u001b[0m\u001b[0;34m,\u001b[0m\u001b[0;34m\u001b[0m\u001b[0;34m\u001b[0m\u001b[0m\n",
      "\u001b[0;32m~/miniconda3/envs/tdt17/lib/python3.9/site-packages/fiftyone/zoo/datasets/__init__.py\u001b[0m in \u001b[0;36mdownload_and_prepare\u001b[0;34m(self, dataset_dir, split, splits, overwrite, cleanup)\u001b[0m\n\u001b[1;32m   1002\u001b[0m                     \u001b[0mnum_samples\u001b[0m\u001b[0;34m,\u001b[0m\u001b[0;34m\u001b[0m\u001b[0;34m\u001b[0m\u001b[0m\n\u001b[1;32m   1003\u001b[0m                     \u001b[0mclasses\u001b[0m\u001b[0;34m,\u001b[0m\u001b[0;34m\u001b[0m\u001b[0;34m\u001b[0m\u001b[0m\n\u001b[0;32m-> 1004\u001b[0;31m                 ) = self._download_and_prepare(split_dir, scratch_dir, split)\n\u001b[0m\u001b[1;32m   1005\u001b[0m \u001b[0;34m\u001b[0m\u001b[0m\n\u001b[1;32m   1006\u001b[0m                 \u001b[0;31m# Add split to ZooDatasetInfo\u001b[0m\u001b[0;34m\u001b[0m\u001b[0;34m\u001b[0m\u001b[0m\n",
      "\u001b[0;32m~/miniconda3/envs/tdt17/lib/python3.9/site-packages/fiftyone/zoo/datasets/base.py\u001b[0m in \u001b[0;36m_download_and_prepare\u001b[0;34m(self, dataset_dir, scratch_dir, split)\u001b[0m\n\u001b[1;32m    768\u001b[0m \u001b[0;34m\u001b[0m\u001b[0m\n\u001b[1;32m    769\u001b[0m     \u001b[0;32mdef\u001b[0m \u001b[0m_download_and_prepare\u001b[0m\u001b[0;34m(\u001b[0m\u001b[0mself\u001b[0m\u001b[0;34m,\u001b[0m \u001b[0mdataset_dir\u001b[0m\u001b[0;34m,\u001b[0m \u001b[0mscratch_dir\u001b[0m\u001b[0;34m,\u001b[0m \u001b[0msplit\u001b[0m\u001b[0;34m)\u001b[0m\u001b[0;34m:\u001b[0m\u001b[0;34m\u001b[0m\u001b[0;34m\u001b[0m\u001b[0m\n\u001b[0;32m--> 770\u001b[0;31m         num_samples, classes, downloaded = fouc.download_coco_dataset_split(\n\u001b[0m\u001b[1;32m    771\u001b[0m             \u001b[0mdataset_dir\u001b[0m\u001b[0;34m,\u001b[0m\u001b[0;34m\u001b[0m\u001b[0;34m\u001b[0m\u001b[0m\n\u001b[1;32m    772\u001b[0m             \u001b[0msplit\u001b[0m\u001b[0;34m,\u001b[0m\u001b[0;34m\u001b[0m\u001b[0;34m\u001b[0m\u001b[0m\n",
      "\u001b[0;32m~/miniconda3/envs/tdt17/lib/python3.9/site-packages/fiftyone/utils/coco.py\u001b[0m in \u001b[0;36mdownload_coco_dataset_split\u001b[0;34m(dataset_dir, split, year, label_types, classes, image_ids, num_workers, shuffle, seed, max_samples, raw_dir, scratch_dir)\u001b[0m\n\u001b[1;32m   1598\u001b[0m \u001b[0;34m\u001b[0m\u001b[0m\n\u001b[1;32m   1599\u001b[0m         \u001b[0;32mif\u001b[0m \u001b[0mnum_download\u001b[0m \u001b[0;34m>\u001b[0m \u001b[0;36m0\u001b[0m\u001b[0;34m:\u001b[0m\u001b[0;34m\u001b[0m\u001b[0;34m\u001b[0m\u001b[0m\n\u001b[0;32m-> 1600\u001b[0;31m             \u001b[0m_download_images\u001b[0m\u001b[0;34m(\u001b[0m\u001b[0mimages_dir\u001b[0m\u001b[0;34m,\u001b[0m \u001b[0mdownload_ids\u001b[0m\u001b[0;34m,\u001b[0m \u001b[0mimages\u001b[0m\u001b[0;34m,\u001b[0m \u001b[0mnum_workers\u001b[0m\u001b[0;34m)\u001b[0m\u001b[0;34m\u001b[0m\u001b[0;34m\u001b[0m\u001b[0m\n\u001b[0m\u001b[1;32m   1601\u001b[0m             \u001b[0mdid_download\u001b[0m \u001b[0;34m=\u001b[0m \u001b[0;32mTrue\u001b[0m\u001b[0;34m\u001b[0m\u001b[0;34m\u001b[0m\u001b[0m\n\u001b[1;32m   1602\u001b[0m \u001b[0;34m\u001b[0m\u001b[0m\n",
      "\u001b[0;32m~/miniconda3/envs/tdt17/lib/python3.9/site-packages/fiftyone/utils/coco.py\u001b[0m in \u001b[0;36m_download_images\u001b[0;34m(images_dir, image_ids, images, num_workers)\u001b[0m\n\u001b[1;32m   1778\u001b[0m         \u001b[0;32mwith\u001b[0m \u001b[0mfou\u001b[0m\u001b[0;34m.\u001b[0m\u001b[0mProgressBar\u001b[0m\u001b[0;34m(\u001b[0m\u001b[0mtotal\u001b[0m\u001b[0;34m=\u001b[0m\u001b[0mlen\u001b[0m\u001b[0;34m(\u001b[0m\u001b[0mtasks\u001b[0m\u001b[0;34m)\u001b[0m\u001b[0;34m,\u001b[0m \u001b[0miters_str\u001b[0m\u001b[0;34m=\u001b[0m\u001b[0;34m\"images\"\u001b[0m\u001b[0;34m)\u001b[0m \u001b[0;32mas\u001b[0m \u001b[0mpb\u001b[0m\u001b[0;34m:\u001b[0m\u001b[0;34m\u001b[0m\u001b[0;34m\u001b[0m\u001b[0m\n\u001b[1;32m   1779\u001b[0m             \u001b[0;32mwith\u001b[0m \u001b[0mmultiprocessing\u001b[0m\u001b[0;34m.\u001b[0m\u001b[0mPool\u001b[0m\u001b[0;34m(\u001b[0m\u001b[0mnum_workers\u001b[0m\u001b[0;34m)\u001b[0m \u001b[0;32mas\u001b[0m \u001b[0mpool\u001b[0m\u001b[0;34m:\u001b[0m\u001b[0;34m\u001b[0m\u001b[0;34m\u001b[0m\u001b[0m\n\u001b[0;32m-> 1780\u001b[0;31m                 \u001b[0;32mfor\u001b[0m \u001b[0m_\u001b[0m \u001b[0;32min\u001b[0m \u001b[0mpool\u001b[0m\u001b[0;34m.\u001b[0m\u001b[0mimap_unordered\u001b[0m\u001b[0;34m(\u001b[0m\u001b[0m_do_download\u001b[0m\u001b[0;34m,\u001b[0m \u001b[0mtasks\u001b[0m\u001b[0;34m)\u001b[0m\u001b[0;34m:\u001b[0m\u001b[0;34m\u001b[0m\u001b[0;34m\u001b[0m\u001b[0m\n\u001b[0m\u001b[1;32m   1781\u001b[0m                     \u001b[0mpb\u001b[0m\u001b[0;34m.\u001b[0m\u001b[0mupdate\u001b[0m\u001b[0;34m(\u001b[0m\u001b[0;34m)\u001b[0m\u001b[0;34m\u001b[0m\u001b[0;34m\u001b[0m\u001b[0m\n\u001b[1;32m   1782\u001b[0m \u001b[0;34m\u001b[0m\u001b[0m\n",
      "\u001b[0;32m~/miniconda3/envs/tdt17/lib/python3.9/multiprocessing/pool.py\u001b[0m in \u001b[0;36mnext\u001b[0;34m(self, timeout)\u001b[0m\n\u001b[1;32m    868\u001b[0m         \u001b[0;32mif\u001b[0m \u001b[0msuccess\u001b[0m\u001b[0;34m:\u001b[0m\u001b[0;34m\u001b[0m\u001b[0;34m\u001b[0m\u001b[0m\n\u001b[1;32m    869\u001b[0m             \u001b[0;32mreturn\u001b[0m \u001b[0mvalue\u001b[0m\u001b[0;34m\u001b[0m\u001b[0;34m\u001b[0m\u001b[0m\n\u001b[0;32m--> 870\u001b[0;31m         \u001b[0;32mraise\u001b[0m \u001b[0mvalue\u001b[0m\u001b[0;34m\u001b[0m\u001b[0;34m\u001b[0m\u001b[0m\n\u001b[0m\u001b[1;32m    871\u001b[0m \u001b[0;34m\u001b[0m\u001b[0m\n\u001b[1;32m    872\u001b[0m     \u001b[0m__next__\u001b[0m \u001b[0;34m=\u001b[0m \u001b[0mnext\u001b[0m                    \u001b[0;31m# XXX\u001b[0m\u001b[0;34m\u001b[0m\u001b[0;34m\u001b[0m\u001b[0m\n",
      "\u001b[0;31mConnectionError\u001b[0m: None: Max retries exceeded with url: /val2017/000000398028.jpg (Caused by None)"
     ]
    }
   ],
   "source": [
    "dataset = fo.zoo.load_zoo_dataset(\n",
    "    \"coco-2017\",\n",
    "    split=\"validation\",\n",
    "    label_types=[\"detections\", \"segmentations\"],\n",
    "    classes=[\"person\", \"car\",\"truck\",\"bicycle\",\"motorcycle\"],\n",
    "    seed=42,\n",
    "    num_samples=1000\n",
    ")\n",
    "session = fo.launch_app(dataset,)"
   ]
  },
  {
   "cell_type": "code",
   "execution_count": null,
   "metadata": {},
   "outputs": [],
   "source": []
  },
  {
   "cell_type": "code",
   "execution_count": null,
   "metadata": {},
   "outputs": [],
   "source": []
  },
  {
   "cell_type": "markdown",
   "metadata": {},
   "source": [
    "#### Launch fiftyone on the provideed data"
   ]
  },
  {
   "cell_type": "code",
   "execution_count": 4,
   "metadata": {},
   "outputs": [
    {
     "name": "stdout",
     "output_type": "stream",
     "text": [
      " 100% |█████████████████████| 1/1 [239.4ms elapsed, 0s remaining, 4.2 samples/s] \n"
     ]
    }
   ],
   "source": [
    "# A name for the dataset\n",
    "name = \"lid_moev\"\n",
    "\n",
    "# The directory containing the dataset to import\n",
    "dataset_dir = Paths.LIDAR / \"data_folder\"\n",
    "\n",
    "# The type of the dataset being imported\n",
    "dataset_type = fo.types.CVATVideoDataset  # for example\n",
    "\n",
    "dataset = fo.Dataset.from_dir(\n",
    "    dataset_dir=dataset_dir,\n",
    "    dataset_type=dataset_type,\n",
    "    name=name,\n",
    ")"
   ]
  },
  {
   "cell_type": "code",
   "execution_count": 5,
   "metadata": {},
   "outputs": [
    {
     "data": {
      "text/html": [
       "\n",
       "        <iframe\n",
       "            width=\"100%\"\n",
       "            height=\"800\"\n",
       "            src=\"http://localhost:5151/?notebook=true&handleId=993a7cee-427d-4945-90be-e00e5177ef4a\"\n",
       "            frameborder=\"0\"\n",
       "            allowfullscreen\n",
       "            \n",
       "        ></iframe>\n",
       "        "
      ],
      "text/plain": [
       "<IPython.lib.display.IFrame at 0x17e63e550>"
      ]
     },
     "metadata": {},
     "output_type": "display_data"
    }
   ],
   "source": [
    "session = fo.launch_app(dataset)"
   ]
  },
  {
   "cell_type": "code",
   "execution_count": null,
   "metadata": {},
   "outputs": [],
   "source": [
    "video_path = \"Users/Adrian/code/TDT17/data/LiDAR-videos/Video00000_Ano/Video00000_ambient.avi.mp4\"\n",
    "\n",
    "\n",
    "# Create video sample with frame labels\n",
    "sample = fo.Sample(filepath=video_path)\n",
    "for frame_number, labels in frame_labels.items():\n",
    "    frame = fo.Frame()\n",
    "\n",
    "    # Store a frame classification\n",
    "    weather = labels[\"weather\"]\n",
    "    frame[\"weather\"] = fo.Classification(label=weather)\n",
    "\n",
    "    # Convert detections to FiftyOne format\n",
    "    detections = []\n",
    "    for obj in labels[\"objects\"]:\n",
    "        label = obj[\"label\"]\n",
    "\n",
    "        # Bounding box coordinates should be relative values\n",
    "        # in [0, 1] in the following format:\n",
    "        # [top-left-x, top-left-y, width, height]\n",
    "        bounding_box = obj[\"bbox\"]\n",
    "\n",
    "        detections.append(\n",
    "            fo.Detection(label=label, bounding_box=bounding_box)\n",
    "        )\n",
    "\n",
    "    # Store object detections\n",
    "    frame[\"objects\"] = fo.Detections(detections=detections)\n",
    "\n",
    "    # Add frame to sample\n",
    "    sample.frames[frame_number] = frame\n",
    "\n",
    "# Create dataset\n",
    "dataset = fo.Dataset(\"my-labeled-video-dataset\")\n",
    "dataset.add_sample(sample)"
   ]
  }
 ],
 "metadata": {
  "interpreter": {
   "hash": "9872a9ded699599cd423587e9946a407b03d54c689c40cb478a5df21414c581b"
  },
  "kernelspec": {
   "display_name": "Python 3.9.7 64-bit ('tdt17': conda)",
   "language": "python",
   "name": "python3"
  },
  "language_info": {
   "codemirror_mode": {
    "name": "ipython",
    "version": 3
   },
   "file_extension": ".py",
   "mimetype": "text/x-python",
   "name": "python",
   "nbconvert_exporter": "python",
   "pygments_lexer": "ipython3",
   "version": "3.9.7"
  },
  "orig_nbformat": 4
 },
 "nbformat": 4,
 "nbformat_minor": 2
}
