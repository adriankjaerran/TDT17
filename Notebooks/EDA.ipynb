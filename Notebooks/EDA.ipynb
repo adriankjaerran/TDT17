{
 "cells": [
  {
   "cell_type": "code",
   "execution_count": 2,
   "metadata": {},
   "outputs": [],
   "source": [
    "import tdt17\n",
    "from tdt17.nbimports import Paths, np, os, pd, plt, sns, sp\n",
    "%reload_ext autoreload\n",
    "%autoreload 2\n",
    "\n",
    "import fiftyone as fo\n",
    "import fiftyone.zoo as foz\n"
   ]
  },
  {
   "cell_type": "markdown",
   "metadata": {},
   "source": [
    "#### Test that you can launch the app fiftyone "
   ]
  },
  {
   "cell_type": "code",
   "execution_count": null,
   "metadata": {},
   "outputs": [],
   "source": [
    "\n",
    "dataset = foz.load_zoo_dataset(\n",
    "    \"coco-2017\",\n",
    "    split=\"validation\", \n",
    "    max_samples=35)\n",
    "\n",
    "session = fo.launch_app(dataset)"
   ]
  },
  {
   "cell_type": "markdown",
   "metadata": {},
   "source": [
    "#### Launch fiftyone on the provideed data"
   ]
  },
  {
   "cell_type": "code",
   "execution_count": 4,
   "metadata": {},
   "outputs": [
    {
     "name": "stdout",
     "output_type": "stream",
     "text": [
      " 100% |█████████████████████| 1/1 [239.4ms elapsed, 0s remaining, 4.2 samples/s] \n"
     ]
    }
   ],
   "source": [
    "# A name for the dataset\n",
    "name = \"lid_moev\"\n",
    "\n",
    "# The directory containing the dataset to import\n",
    "dataset_dir = Paths.LIDAR / \"data_folder\"\n",
    "\n",
    "# The type of the dataset being imported\n",
    "dataset_type = fo.types.CVATVideoDataset  # for example\n",
    "\n",
    "dataset = fo.Dataset.from_dir(\n",
    "    dataset_dir=dataset_dir,\n",
    "    dataset_type=dataset_type,\n",
    "    name=name,\n",
    ")"
   ]
  },
  {
   "cell_type": "code",
   "execution_count": 5,
   "metadata": {},
   "outputs": [
    {
     "data": {
      "text/html": [
       "\n",
       "        <iframe\n",
       "            width=\"100%\"\n",
       "            height=\"800\"\n",
       "            src=\"http://localhost:5151/?notebook=true&handleId=993a7cee-427d-4945-90be-e00e5177ef4a\"\n",
       "            frameborder=\"0\"\n",
       "            allowfullscreen\n",
       "            \n",
       "        ></iframe>\n",
       "        "
      ],
      "text/plain": [
       "<IPython.lib.display.IFrame at 0x17e63e550>"
      ]
     },
     "metadata": {},
     "output_type": "display_data"
    }
   ],
   "source": [
    "session = fo.launch_app(dataset)"
   ]
  },
  {
   "cell_type": "code",
   "execution_count": null,
   "metadata": {},
   "outputs": [],
   "source": [
    "video_path = \"Users/Adrian/code/TDT17/data/LiDAR-videos/Video00000_Ano/Video00000_ambient.avi.mp4\"\n",
    "\n",
    "\n",
    "# Create video sample with frame labels\n",
    "sample = fo.Sample(filepath=video_path)\n",
    "for frame_number, labels in frame_labels.items():\n",
    "    frame = fo.Frame()\n",
    "\n",
    "    # Store a frame classification\n",
    "    weather = labels[\"weather\"]\n",
    "    frame[\"weather\"] = fo.Classification(label=weather)\n",
    "\n",
    "    # Convert detections to FiftyOne format\n",
    "    detections = []\n",
    "    for obj in labels[\"objects\"]:\n",
    "        label = obj[\"label\"]\n",
    "\n",
    "        # Bounding box coordinates should be relative values\n",
    "        # in [0, 1] in the following format:\n",
    "        # [top-left-x, top-left-y, width, height]\n",
    "        bounding_box = obj[\"bbox\"]\n",
    "\n",
    "        detections.append(\n",
    "            fo.Detection(label=label, bounding_box=bounding_box)\n",
    "        )\n",
    "\n",
    "    # Store object detections\n",
    "    frame[\"objects\"] = fo.Detections(detections=detections)\n",
    "\n",
    "    # Add frame to sample\n",
    "    sample.frames[frame_number] = frame\n",
    "\n",
    "# Create dataset\n",
    "dataset = fo.Dataset(\"my-labeled-video-dataset\")\n",
    "dataset.add_sample(sample)"
   ]
  }
 ],
 "metadata": {
  "interpreter": {
   "hash": "9872a9ded699599cd423587e9946a407b03d54c689c40cb478a5df21414c581b"
  },
  "kernelspec": {
   "display_name": "Python 3.9.7 64-bit ('tdt17': conda)",
   "language": "python",
   "name": "python3"
  },
  "language_info": {
   "codemirror_mode": {
    "name": "ipython",
    "version": 3
   },
   "file_extension": ".py",
   "mimetype": "text/x-python",
   "name": "python",
   "nbconvert_exporter": "python",
   "pygments_lexer": "ipython3",
   "version": "3.9.7"
  },
  "orig_nbformat": 4
 },
 "nbformat": 4,
 "nbformat_minor": 2
}
