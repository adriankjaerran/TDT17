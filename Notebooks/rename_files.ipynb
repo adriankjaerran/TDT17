{
 "cells": [
  {
   "cell_type": "code",
   "execution_count": 1,
   "metadata": {},
   "outputs": [],
   "source": [
    "import tdt17\n",
    "from tdt17.nbimports import Paths, np, os, pd, plt, sns, sp\n",
    "%reload_ext autoreload\n",
    "%autoreload 2"
   ]
  },
  {
   "cell_type": "code",
   "execution_count": 39,
   "metadata": {},
   "outputs": [],
   "source": [
    "type = \"all\"\n",
    "\n",
    "files = tdt17.io_utils.get_files_in_directory( Paths.DATA / f\"YOLO_format/{type}_data\", contains_all=[\".PNG\"])\n",
    "files.sort()\n",
    "\n",
    "\n",
    "\n",
    "string = \"\\n\".join(files)\n",
    "with open(Paths.DATA/ f'YOLO_format/{type}.txt', 'w') as f:\n",
    "    f.write(string)"
   ]
  }
 ],
 "metadata": {
  "interpreter": {
   "hash": "9872a9ded699599cd423587e9946a407b03d54c689c40cb478a5df21414c581b"
  },
  "kernelspec": {
   "display_name": "Python 3.9.7 64-bit ('tdt17': conda)",
   "language": "python",
   "name": "python3"
  },
  "language_info": {
   "codemirror_mode": {
    "name": "ipython",
    "version": 3
   },
   "file_extension": ".py",
   "mimetype": "text/x-python",
   "name": "python",
   "nbconvert_exporter": "python",
   "pygments_lexer": "ipython3",
   "version": "3.9.7"
  },
  "orig_nbformat": 4
 },
 "nbformat": 4,
 "nbformat_minor": 2
}
